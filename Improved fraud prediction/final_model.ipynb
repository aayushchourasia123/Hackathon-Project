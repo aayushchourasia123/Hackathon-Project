{
  "cells": [
    {
      "cell_type": "code",
      "execution_count": 39,
      "metadata": {
        "id": "UJQLuZcf3lyh"
      },
      "outputs": [],
      "source": [
        "import pandas as pd\n",
        "import numpy as np\n",
        "import pandas as pd\n",
        "import numpy as np\n",
        "from sklearn.model_selection import train_test_split, GridSearchCV\n",
        "from sklearn.preprocessing import OneHotEncoder, StandardScaler\n",
        "from sklearn.compose import ColumnTransformer\n",
        "from sklearn.pipeline import Pipeline\n",
        "from sklearn.linear_model import LogisticRegression\n",
        "from sklearn.tree import DecisionTreeClassifier\n",
        "from sklearn.ensemble import RandomForestClassifier\n",
        "from xgboost import XGBClassifier\n",
        "from sklearn.metrics import accuracy_score, precision_score, recall_score, f1_score, confusion_matrix, classification_report\n",
        "import warnings\n",
        "warnings.filterwarnings(\"ignore\")"
      ]
    },
    {
      "cell_type": "code",
      "execution_count": 40,
      "metadata": {},
      "outputs": [
        {
          "name": "stdout",
          "output_type": "stream",
          "text": [
            "Defaulting to user installation because normal site-packages is not writeable\n",
            "Requirement already satisfied: xgboost in c:\\users\\aayush chourasia\\appdata\\roaming\\python\\python313\\site-packages (3.0.4)\n",
            "Requirement already satisfied: numpy in c:\\users\\aayush chourasia\\appdata\\roaming\\python\\python313\\site-packages (from xgboost) (2.3.2)\n",
            "Requirement already satisfied: scipy in c:\\users\\aayush chourasia\\appdata\\roaming\\python\\python313\\site-packages (from xgboost) (1.16.1)\n"
          ]
        }
      ],
      "source": [
        "!pip install xgboost"
      ]
    },
    {
      "cell_type": "code",
      "execution_count": 41,
      "metadata": {
        "id": "RyFi7edBC0Ul"
      },
      "outputs": [],
      "source": [
        "df=pd.read_csv(\"AIML Dataset.csv\")"
      ]
    },
    {
      "cell_type": "code",
      "execution_count": 42,
      "metadata": {
        "colab": {
          "base_uri": "https://localhost:8080/",
          "height": 206
        },
        "id": "YKteNBbMI381",
        "outputId": "b7467f25-3446-4d17-ab02-c4bf254c4059"
      },
      "outputs": [
        {
          "data": {
            "text/html": [
              "<div>\n",
              "<style scoped>\n",
              "    .dataframe tbody tr th:only-of-type {\n",
              "        vertical-align: middle;\n",
              "    }\n",
              "\n",
              "    .dataframe tbody tr th {\n",
              "        vertical-align: top;\n",
              "    }\n",
              "\n",
              "    .dataframe thead th {\n",
              "        text-align: right;\n",
              "    }\n",
              "</style>\n",
              "<table border=\"1\" class=\"dataframe\">\n",
              "  <thead>\n",
              "    <tr style=\"text-align: right;\">\n",
              "      <th></th>\n",
              "      <th>step</th>\n",
              "      <th>type</th>\n",
              "      <th>amount</th>\n",
              "      <th>nameOrig</th>\n",
              "      <th>oldbalanceOrg</th>\n",
              "      <th>newbalanceOrig</th>\n",
              "      <th>nameDest</th>\n",
              "      <th>oldbalanceDest</th>\n",
              "      <th>newbalanceDest</th>\n",
              "      <th>isFraud</th>\n",
              "      <th>isFlaggedFraud</th>\n",
              "    </tr>\n",
              "  </thead>\n",
              "  <tbody>\n",
              "    <tr>\n",
              "      <th>0</th>\n",
              "      <td>1</td>\n",
              "      <td>PAYMENT</td>\n",
              "      <td>9839.64</td>\n",
              "      <td>C1231006815</td>\n",
              "      <td>170136.0</td>\n",
              "      <td>160296.36</td>\n",
              "      <td>M1979787155</td>\n",
              "      <td>0.0</td>\n",
              "      <td>0.0</td>\n",
              "      <td>0</td>\n",
              "      <td>0</td>\n",
              "    </tr>\n",
              "    <tr>\n",
              "      <th>1</th>\n",
              "      <td>1</td>\n",
              "      <td>PAYMENT</td>\n",
              "      <td>1864.28</td>\n",
              "      <td>C1666544295</td>\n",
              "      <td>21249.0</td>\n",
              "      <td>19384.72</td>\n",
              "      <td>M2044282225</td>\n",
              "      <td>0.0</td>\n",
              "      <td>0.0</td>\n",
              "      <td>0</td>\n",
              "      <td>0</td>\n",
              "    </tr>\n",
              "    <tr>\n",
              "      <th>2</th>\n",
              "      <td>1</td>\n",
              "      <td>TRANSFER</td>\n",
              "      <td>181.00</td>\n",
              "      <td>C1305486145</td>\n",
              "      <td>181.0</td>\n",
              "      <td>0.00</td>\n",
              "      <td>C553264065</td>\n",
              "      <td>0.0</td>\n",
              "      <td>0.0</td>\n",
              "      <td>1</td>\n",
              "      <td>0</td>\n",
              "    </tr>\n",
              "    <tr>\n",
              "      <th>3</th>\n",
              "      <td>1</td>\n",
              "      <td>CASH_OUT</td>\n",
              "      <td>181.00</td>\n",
              "      <td>C840083671</td>\n",
              "      <td>181.0</td>\n",
              "      <td>0.00</td>\n",
              "      <td>C38997010</td>\n",
              "      <td>21182.0</td>\n",
              "      <td>0.0</td>\n",
              "      <td>1</td>\n",
              "      <td>0</td>\n",
              "    </tr>\n",
              "    <tr>\n",
              "      <th>4</th>\n",
              "      <td>1</td>\n",
              "      <td>PAYMENT</td>\n",
              "      <td>11668.14</td>\n",
              "      <td>C2048537720</td>\n",
              "      <td>41554.0</td>\n",
              "      <td>29885.86</td>\n",
              "      <td>M1230701703</td>\n",
              "      <td>0.0</td>\n",
              "      <td>0.0</td>\n",
              "      <td>0</td>\n",
              "      <td>0</td>\n",
              "    </tr>\n",
              "  </tbody>\n",
              "</table>\n",
              "</div>"
            ],
            "text/plain": [
              "   step      type    amount     nameOrig  oldbalanceOrg  newbalanceOrig  \\\n",
              "0     1   PAYMENT   9839.64  C1231006815       170136.0       160296.36   \n",
              "1     1   PAYMENT   1864.28  C1666544295        21249.0        19384.72   \n",
              "2     1  TRANSFER    181.00  C1305486145          181.0            0.00   \n",
              "3     1  CASH_OUT    181.00   C840083671          181.0            0.00   \n",
              "4     1   PAYMENT  11668.14  C2048537720        41554.0        29885.86   \n",
              "\n",
              "      nameDest  oldbalanceDest  newbalanceDest  isFraud  isFlaggedFraud  \n",
              "0  M1979787155             0.0             0.0        0               0  \n",
              "1  M2044282225             0.0             0.0        0               0  \n",
              "2   C553264065             0.0             0.0        1               0  \n",
              "3    C38997010         21182.0             0.0        1               0  \n",
              "4  M1230701703             0.0             0.0        0               0  "
            ]
          },
          "execution_count": 42,
          "metadata": {},
          "output_type": "execute_result"
        }
      ],
      "source": [
        "df.head()"
      ]
    },
    {
      "cell_type": "code",
      "execution_count": 43,
      "metadata": {
        "colab": {
          "base_uri": "https://localhost:8080/"
        },
        "id": "FfpkCf2IKi6_",
        "outputId": "7d6b3247-4403-415f-ac2b-62b66eaa16f8"
      },
      "outputs": [
        {
          "data": {
            "text/plain": [
              "(6362620, 11)"
            ]
          },
          "execution_count": 43,
          "metadata": {},
          "output_type": "execute_result"
        }
      ],
      "source": [
        "df.shape"
      ]
    },
    {
      "cell_type": "code",
      "execution_count": 44,
      "metadata": {
        "id": "EQ8uTYOTKkdD"
      },
      "outputs": [],
      "source": [
        "df['sender_balance_diff'] = df['oldbalanceOrg'] - df['newbalanceOrig'] - df['amount']\n",
        "df['receiver_balance_diff'] = df['newbalanceDest'] - df['oldbalanceDest'] - df['amount']\n",
        "df['is_sender_balance_mismatch'] = (df['oldbalanceOrg'] - df['amount'] != df['newbalanceOrig']).astype(int)\n",
        "df['is_receiver_balance_mismatch'] = (df['oldbalanceDest'] + df['amount'] != df['newbalanceDest']).astype(int)"
      ]
    },
    {
      "cell_type": "code",
      "execution_count": 45,
      "metadata": {
        "colab": {
          "base_uri": "https://localhost:8080/",
          "height": 226
        },
        "id": "Eem7QE2CxlHt",
        "outputId": "32b1c294-55e4-47f0-ece2-68566ba1c1ea"
      },
      "outputs": [
        {
          "data": {
            "text/html": [
              "<div>\n",
              "<style scoped>\n",
              "    .dataframe tbody tr th:only-of-type {\n",
              "        vertical-align: middle;\n",
              "    }\n",
              "\n",
              "    .dataframe tbody tr th {\n",
              "        vertical-align: top;\n",
              "    }\n",
              "\n",
              "    .dataframe thead th {\n",
              "        text-align: right;\n",
              "    }\n",
              "</style>\n",
              "<table border=\"1\" class=\"dataframe\">\n",
              "  <thead>\n",
              "    <tr style=\"text-align: right;\">\n",
              "      <th></th>\n",
              "      <th>step</th>\n",
              "      <th>type</th>\n",
              "      <th>amount</th>\n",
              "      <th>nameOrig</th>\n",
              "      <th>oldbalanceOrg</th>\n",
              "      <th>newbalanceOrig</th>\n",
              "      <th>nameDest</th>\n",
              "      <th>oldbalanceDest</th>\n",
              "      <th>newbalanceDest</th>\n",
              "      <th>isFraud</th>\n",
              "      <th>isFlaggedFraud</th>\n",
              "      <th>sender_balance_diff</th>\n",
              "      <th>receiver_balance_diff</th>\n",
              "      <th>is_sender_balance_mismatch</th>\n",
              "      <th>is_receiver_balance_mismatch</th>\n",
              "    </tr>\n",
              "  </thead>\n",
              "  <tbody>\n",
              "    <tr>\n",
              "      <th>0</th>\n",
              "      <td>1</td>\n",
              "      <td>PAYMENT</td>\n",
              "      <td>9839.64</td>\n",
              "      <td>C1231006815</td>\n",
              "      <td>170136.0</td>\n",
              "      <td>160296.36</td>\n",
              "      <td>M1979787155</td>\n",
              "      <td>0.0</td>\n",
              "      <td>0.0</td>\n",
              "      <td>0</td>\n",
              "      <td>0</td>\n",
              "      <td>1.455192e-11</td>\n",
              "      <td>-9839.64</td>\n",
              "      <td>0</td>\n",
              "      <td>1</td>\n",
              "    </tr>\n",
              "    <tr>\n",
              "      <th>1</th>\n",
              "      <td>1</td>\n",
              "      <td>PAYMENT</td>\n",
              "      <td>1864.28</td>\n",
              "      <td>C1666544295</td>\n",
              "      <td>21249.0</td>\n",
              "      <td>19384.72</td>\n",
              "      <td>M2044282225</td>\n",
              "      <td>0.0</td>\n",
              "      <td>0.0</td>\n",
              "      <td>0</td>\n",
              "      <td>0</td>\n",
              "      <td>-1.136868e-12</td>\n",
              "      <td>-1864.28</td>\n",
              "      <td>0</td>\n",
              "      <td>1</td>\n",
              "    </tr>\n",
              "    <tr>\n",
              "      <th>2</th>\n",
              "      <td>1</td>\n",
              "      <td>TRANSFER</td>\n",
              "      <td>181.00</td>\n",
              "      <td>C1305486145</td>\n",
              "      <td>181.0</td>\n",
              "      <td>0.00</td>\n",
              "      <td>C553264065</td>\n",
              "      <td>0.0</td>\n",
              "      <td>0.0</td>\n",
              "      <td>1</td>\n",
              "      <td>0</td>\n",
              "      <td>0.000000e+00</td>\n",
              "      <td>-181.00</td>\n",
              "      <td>0</td>\n",
              "      <td>1</td>\n",
              "    </tr>\n",
              "    <tr>\n",
              "      <th>3</th>\n",
              "      <td>1</td>\n",
              "      <td>CASH_OUT</td>\n",
              "      <td>181.00</td>\n",
              "      <td>C840083671</td>\n",
              "      <td>181.0</td>\n",
              "      <td>0.00</td>\n",
              "      <td>C38997010</td>\n",
              "      <td>21182.0</td>\n",
              "      <td>0.0</td>\n",
              "      <td>1</td>\n",
              "      <td>0</td>\n",
              "      <td>0.000000e+00</td>\n",
              "      <td>-21363.00</td>\n",
              "      <td>0</td>\n",
              "      <td>1</td>\n",
              "    </tr>\n",
              "    <tr>\n",
              "      <th>4</th>\n",
              "      <td>1</td>\n",
              "      <td>PAYMENT</td>\n",
              "      <td>11668.14</td>\n",
              "      <td>C2048537720</td>\n",
              "      <td>41554.0</td>\n",
              "      <td>29885.86</td>\n",
              "      <td>M1230701703</td>\n",
              "      <td>0.0</td>\n",
              "      <td>0.0</td>\n",
              "      <td>0</td>\n",
              "      <td>0</td>\n",
              "      <td>0.000000e+00</td>\n",
              "      <td>-11668.14</td>\n",
              "      <td>0</td>\n",
              "      <td>1</td>\n",
              "    </tr>\n",
              "  </tbody>\n",
              "</table>\n",
              "</div>"
            ],
            "text/plain": [
              "   step      type    amount     nameOrig  oldbalanceOrg  newbalanceOrig  \\\n",
              "0     1   PAYMENT   9839.64  C1231006815       170136.0       160296.36   \n",
              "1     1   PAYMENT   1864.28  C1666544295        21249.0        19384.72   \n",
              "2     1  TRANSFER    181.00  C1305486145          181.0            0.00   \n",
              "3     1  CASH_OUT    181.00   C840083671          181.0            0.00   \n",
              "4     1   PAYMENT  11668.14  C2048537720        41554.0        29885.86   \n",
              "\n",
              "      nameDest  oldbalanceDest  newbalanceDest  isFraud  isFlaggedFraud  \\\n",
              "0  M1979787155             0.0             0.0        0               0   \n",
              "1  M2044282225             0.0             0.0        0               0   \n",
              "2   C553264065             0.0             0.0        1               0   \n",
              "3    C38997010         21182.0             0.0        1               0   \n",
              "4  M1230701703             0.0             0.0        0               0   \n",
              "\n",
              "   sender_balance_diff  receiver_balance_diff  is_sender_balance_mismatch  \\\n",
              "0         1.455192e-11               -9839.64                           0   \n",
              "1        -1.136868e-12               -1864.28                           0   \n",
              "2         0.000000e+00                -181.00                           0   \n",
              "3         0.000000e+00              -21363.00                           0   \n",
              "4         0.000000e+00              -11668.14                           0   \n",
              "\n",
              "   is_receiver_balance_mismatch  \n",
              "0                             1  \n",
              "1                             1  \n",
              "2                             1  \n",
              "3                             1  \n",
              "4                             1  "
            ]
          },
          "execution_count": 45,
          "metadata": {},
          "output_type": "execute_result"
        }
      ],
      "source": [
        "df.head()"
      ]
    },
    {
      "cell_type": "code",
      "execution_count": 46,
      "metadata": {
        "id": "CLhqjThdyIaS"
      },
      "outputs": [],
      "source": [
        "data=df.drop(['step','nameOrig','nameDest','nameDest','isFlaggedFraud'],axis=1)"
      ]
    },
    {
      "cell_type": "code",
      "execution_count": 47,
      "metadata": {
        "colab": {
          "base_uri": "https://localhost:8080/",
          "height": 226
        },
        "id": "QinpA9JzyWHB",
        "outputId": "f07acfdc-c6d4-4590-9e78-9169aa832494"
      },
      "outputs": [
        {
          "data": {
            "text/html": [
              "<div>\n",
              "<style scoped>\n",
              "    .dataframe tbody tr th:only-of-type {\n",
              "        vertical-align: middle;\n",
              "    }\n",
              "\n",
              "    .dataframe tbody tr th {\n",
              "        vertical-align: top;\n",
              "    }\n",
              "\n",
              "    .dataframe thead th {\n",
              "        text-align: right;\n",
              "    }\n",
              "</style>\n",
              "<table border=\"1\" class=\"dataframe\">\n",
              "  <thead>\n",
              "    <tr style=\"text-align: right;\">\n",
              "      <th></th>\n",
              "      <th>type</th>\n",
              "      <th>amount</th>\n",
              "      <th>oldbalanceOrg</th>\n",
              "      <th>newbalanceOrig</th>\n",
              "      <th>oldbalanceDest</th>\n",
              "      <th>newbalanceDest</th>\n",
              "      <th>isFraud</th>\n",
              "      <th>sender_balance_diff</th>\n",
              "      <th>receiver_balance_diff</th>\n",
              "      <th>is_sender_balance_mismatch</th>\n",
              "      <th>is_receiver_balance_mismatch</th>\n",
              "    </tr>\n",
              "  </thead>\n",
              "  <tbody>\n",
              "    <tr>\n",
              "      <th>0</th>\n",
              "      <td>PAYMENT</td>\n",
              "      <td>9839.64</td>\n",
              "      <td>170136.0</td>\n",
              "      <td>160296.36</td>\n",
              "      <td>0.0</td>\n",
              "      <td>0.0</td>\n",
              "      <td>0</td>\n",
              "      <td>1.455192e-11</td>\n",
              "      <td>-9839.64</td>\n",
              "      <td>0</td>\n",
              "      <td>1</td>\n",
              "    </tr>\n",
              "    <tr>\n",
              "      <th>1</th>\n",
              "      <td>PAYMENT</td>\n",
              "      <td>1864.28</td>\n",
              "      <td>21249.0</td>\n",
              "      <td>19384.72</td>\n",
              "      <td>0.0</td>\n",
              "      <td>0.0</td>\n",
              "      <td>0</td>\n",
              "      <td>-1.136868e-12</td>\n",
              "      <td>-1864.28</td>\n",
              "      <td>0</td>\n",
              "      <td>1</td>\n",
              "    </tr>\n",
              "    <tr>\n",
              "      <th>2</th>\n",
              "      <td>TRANSFER</td>\n",
              "      <td>181.00</td>\n",
              "      <td>181.0</td>\n",
              "      <td>0.00</td>\n",
              "      <td>0.0</td>\n",
              "      <td>0.0</td>\n",
              "      <td>1</td>\n",
              "      <td>0.000000e+00</td>\n",
              "      <td>-181.00</td>\n",
              "      <td>0</td>\n",
              "      <td>1</td>\n",
              "    </tr>\n",
              "    <tr>\n",
              "      <th>3</th>\n",
              "      <td>CASH_OUT</td>\n",
              "      <td>181.00</td>\n",
              "      <td>181.0</td>\n",
              "      <td>0.00</td>\n",
              "      <td>21182.0</td>\n",
              "      <td>0.0</td>\n",
              "      <td>1</td>\n",
              "      <td>0.000000e+00</td>\n",
              "      <td>-21363.00</td>\n",
              "      <td>0</td>\n",
              "      <td>1</td>\n",
              "    </tr>\n",
              "    <tr>\n",
              "      <th>4</th>\n",
              "      <td>PAYMENT</td>\n",
              "      <td>11668.14</td>\n",
              "      <td>41554.0</td>\n",
              "      <td>29885.86</td>\n",
              "      <td>0.0</td>\n",
              "      <td>0.0</td>\n",
              "      <td>0</td>\n",
              "      <td>0.000000e+00</td>\n",
              "      <td>-11668.14</td>\n",
              "      <td>0</td>\n",
              "      <td>1</td>\n",
              "    </tr>\n",
              "  </tbody>\n",
              "</table>\n",
              "</div>"
            ],
            "text/plain": [
              "       type    amount  oldbalanceOrg  newbalanceOrig  oldbalanceDest  \\\n",
              "0   PAYMENT   9839.64       170136.0       160296.36             0.0   \n",
              "1   PAYMENT   1864.28        21249.0        19384.72             0.0   \n",
              "2  TRANSFER    181.00          181.0            0.00             0.0   \n",
              "3  CASH_OUT    181.00          181.0            0.00         21182.0   \n",
              "4   PAYMENT  11668.14        41554.0        29885.86             0.0   \n",
              "\n",
              "   newbalanceDest  isFraud  sender_balance_diff  receiver_balance_diff  \\\n",
              "0             0.0        0         1.455192e-11               -9839.64   \n",
              "1             0.0        0        -1.136868e-12               -1864.28   \n",
              "2             0.0        1         0.000000e+00                -181.00   \n",
              "3             0.0        1         0.000000e+00              -21363.00   \n",
              "4             0.0        0         0.000000e+00              -11668.14   \n",
              "\n",
              "   is_sender_balance_mismatch  is_receiver_balance_mismatch  \n",
              "0                           0                             1  \n",
              "1                           0                             1  \n",
              "2                           0                             1  \n",
              "3                           0                             1  \n",
              "4                           0                             1  "
            ]
          },
          "execution_count": 47,
          "metadata": {},
          "output_type": "execute_result"
        }
      ],
      "source": [
        "data.head()"
      ]
    },
    {
      "cell_type": "code",
      "execution_count": 48,
      "metadata": {
        "id": "MT1EJFdkzCGs"
      },
      "outputs": [],
      "source": [
        "X = data.drop(columns=['isFraud'])\n",
        "y = data['isFraud']"
      ]
    },
    {
      "cell_type": "code",
      "execution_count": 49,
      "metadata": {
        "id": "4L2ZMk4nx5K5"
      },
      "outputs": [],
      "source": [
        "categorical_cols = ['type']\n",
        "numerical_cols = ['amount','oldbalanceOrg','newbalanceOrig',\n",
        "                  'oldbalanceDest','newbalanceDest',\n",
        "                  'sender_balance_diff','receiver_balance_diff']\n",
        "boolean_cols = ['is_sender_balance_mismatch','is_receiver_balance_mismatch']"
      ]
    },
    {
      "cell_type": "code",
      "execution_count": 50,
      "metadata": {
        "id": "aTfMreDQzg0-"
      },
      "outputs": [],
      "source": [
        "preprocessor = ColumnTransformer(\n",
        "    transformers=[\n",
        "        ('cat', OneHotEncoder(handle_unknown='ignore'), categorical_cols),\n",
        "        ('num', StandardScaler(), numerical_cols),\n",
        "        ('bool', 'passthrough', boolean_cols)\n",
        "    ]\n",
        ")"
      ]
    },
    {
      "cell_type": "code",
      "execution_count": 51,
      "metadata": {
        "colab": {
          "base_uri": "https://localhost:8080/"
        },
        "id": "xttp75mVz3y-",
        "outputId": "c7b96e9e-4df1-4927-f109-3191f8fbebb5"
      },
      "outputs": [
        {
          "name": "stdout",
          "output_type": "stream",
          "text": [
            "scale_pos_weight for XGBoost: 773.70\n"
          ]
        }
      ],
      "source": [
        "# Compute scale_pos_weight for XGBoost\n",
        "pos_weight = len(y[y==0]) / len(y[y==1])\n",
        "print(f\"scale_pos_weight for XGBoost: {pos_weight:.2f}\")"
      ]
    },
    {
      "cell_type": "code",
      "execution_count": 52,
      "metadata": {
        "id": "kSbcVbawz6dB"
      },
      "outputs": [],
      "source": [
        "# Classifiers + Hyperparameter Grids\n",
        "# =========================================\n",
        "models = {\n",
        "    \"Logistic Regression\": (\n",
        "        LogisticRegression(max_iter=1000, class_weight=\"balanced\"),\n",
        "        {\"classifier__C\": [0.01, 0.1, 1, 10]}\n",
        "    ),\n",
        "    \"Decision Tree\": (\n",
        "        DecisionTreeClassifier(class_weight=\"balanced\", random_state=42),\n",
        "        {\"classifier__max_depth\": [5, 10, 20, None],\n",
        "         \"classifier__min_samples_split\": [2, 5, 10]}\n",
        "    ),\n",
        "    \"Random Forest\": (\n",
        "        RandomForestClassifier(class_weight=\"balanced\", random_state=42, n_jobs=-1),\n",
        "        {\"classifier__n_estimators\": [100, 200],\n",
        "         \"classifier__max_depth\": [10, 20, None]}\n",
        "    ),\n",
        "    \"XGBoost\": (\n",
        "        XGBClassifier(use_label_encoder=False, eval_metric=\"logloss\",\n",
        "                      random_state=42, n_jobs=-1, scale_pos_weight=pos_weight),\n",
        "        {\"classifier__n_estimators\": [100, 200],\n",
        "         \"classifier__learning_rate\": [0.05, 0.1],\n",
        "         \"classifier__max_depth\": [3, 5]}\n",
        "    )\n",
        "}"
      ]
    },
    {
      "cell_type": "code",
      "execution_count": 53,
      "metadata": {
        "id": "0GW5009H0DQ2"
      },
      "outputs": [],
      "source": [
        "X_train, X_test, y_train, y_test = train_test_split(\n",
        "    X, y, test_size=0.2, stratify=y, random_state=42\n",
        ")"
      ]
    },
    {
      "cell_type": "code",
      "execution_count": 54,
      "metadata": {
        "colab": {
          "base_uri": "https://localhost:8080/",
          "height": 211
        },
        "id": "kd1D_YtY0JQw",
        "outputId": "e8e9b7ba-0749-4471-e1e3-e173bf0a29c9"
      },
      "outputs": [
        {
          "name": "stdout",
          "output_type": "stream",
          "text": [
            "\n",
            "🚀 Training Logistic Regression ...\n",
            "Fitting 3 folds for each of 4 candidates, totalling 12 fits\n",
            "\n",
            "✅ Best Params for Logistic Regression: {'classifier__C': 0.01}\n",
            "Confusion Matrix:\n",
            " [[1237594   33287]\n",
            " [      5    1638]]\n",
            "Classification Report:\n",
            "               precision    recall  f1-score   support\n",
            "\n",
            "           0     1.0000    0.9738    0.9867   1270881\n",
            "           1     0.0469    0.9970    0.0896      1643\n",
            "\n",
            "    accuracy                         0.9738   1272524\n",
            "   macro avg     0.5234    0.9854    0.5382   1272524\n",
            "weighted avg     0.9988    0.9738    0.9856   1272524\n",
            "\n",
            "\n",
            "🚀 Training Decision Tree ...\n",
            "Fitting 3 folds for each of 12 candidates, totalling 36 fits\n",
            "\n",
            "✅ Best Params for Decision Tree: {'classifier__max_depth': 5, 'classifier__min_samples_split': 2}\n",
            "Confusion Matrix:\n",
            " [[1270881       0]\n",
            " [      4    1639]]\n",
            "Classification Report:\n",
            "               precision    recall  f1-score   support\n",
            "\n",
            "           0     1.0000    1.0000    1.0000   1270881\n",
            "           1     1.0000    0.9976    0.9988      1643\n",
            "\n",
            "    accuracy                         1.0000   1272524\n",
            "   macro avg     1.0000    0.9988    0.9994   1272524\n",
            "weighted avg     1.0000    1.0000    1.0000   1272524\n",
            "\n",
            "\n",
            "🚀 Training Random Forest ...\n",
            "Fitting 3 folds for each of 6 candidates, totalling 18 fits\n",
            "\n",
            "✅ Best Params for Random Forest: {'classifier__max_depth': 10, 'classifier__n_estimators': 100}\n",
            "Confusion Matrix:\n",
            " [[1270881       0]\n",
            " [      4    1639]]\n",
            "Classification Report:\n",
            "               precision    recall  f1-score   support\n",
            "\n",
            "           0     1.0000    1.0000    1.0000   1270881\n",
            "           1     1.0000    0.9976    0.9988      1643\n",
            "\n",
            "    accuracy                         1.0000   1272524\n",
            "   macro avg     1.0000    0.9988    0.9994   1272524\n",
            "weighted avg     1.0000    1.0000    1.0000   1272524\n",
            "\n",
            "\n",
            "🚀 Training XGBoost ...\n",
            "Fitting 3 folds for each of 8 candidates, totalling 24 fits\n",
            "\n",
            "✅ Best Params for XGBoost: {'classifier__learning_rate': 0.1, 'classifier__max_depth': 5, 'classifier__n_estimators': 200}\n",
            "Confusion Matrix:\n",
            " [[1270788      93]\n",
            " [      4    1639]]\n",
            "Classification Report:\n",
            "               precision    recall  f1-score   support\n",
            "\n",
            "           0     1.0000    0.9999    1.0000   1270881\n",
            "           1     0.9463    0.9976    0.9713      1643\n",
            "\n",
            "    accuracy                         0.9999   1272524\n",
            "   macro avg     0.9732    0.9987    0.9856   1272524\n",
            "weighted avg     0.9999    0.9999    0.9999   1272524\n",
            "\n"
          ]
        }
      ],
      "source": [
        "results = []\n",
        "\n",
        "for name, (model, params) in models.items():\n",
        "    print(f\"\\n🚀 Training {name} ...\")\n",
        "    pipe = Pipeline(steps=[('preprocessor', preprocessor),\n",
        "                           ('classifier', model)])\n",
        "\n",
        "    grid = GridSearchCV(pipe, param_grid=params, scoring=\"f1\",n_jobs=1, cv=3, verbose=1)\n",
        "    grid.fit(X_train, y_train)\n",
        "\n",
        "    best_model = grid.best_estimator_\n",
        "    y_pred = best_model.predict(X_test)\n",
        "\n",
        "    acc = accuracy_score(y_test, y_pred)\n",
        "    prec = precision_score(y_test, y_pred, zero_division=0)\n",
        "    rec = recall_score(y_test, y_pred)\n",
        "    f1 = f1_score(y_test, y_pred)\n",
        "\n",
        "    print(f\"\\n✅ Best Params for {name}: {grid.best_params_}\")\n",
        "    print(\"Confusion Matrix:\\n\", confusion_matrix(y_test, y_pred))\n",
        "    print(\"Classification Report:\\n\", classification_report(y_test, y_pred, digits=4))\n",
        "\n",
        "    results.append([name, acc, prec, rec, f1, grid.best_params_])"
      ]
    },
    {
      "cell_type": "code",
      "execution_count": 55,
      "metadata": {
        "id": "8O0d8kTQ0UDM"
      },
      "outputs": [
        {
          "name": "stdout",
          "output_type": "stream",
          "text": [
            "\n",
            "📊 Final Comparison:\n",
            "                  Model  Accuracy  Precision    Recall  F1-score  \\\n",
            "0  Logistic Regression  0.973838   0.046901  0.996957  0.089587   \n",
            "1        Decision Tree  0.999997   1.000000  0.997565  0.998781   \n",
            "2        Random Forest  0.999997   1.000000  0.997565  0.998781   \n",
            "3              XGBoost  0.999924   0.946305  0.997565  0.971259   \n",
            "\n",
            "                                         Best Params  \n",
            "0                            {'classifier__C': 0.01}  \n",
            "1  {'classifier__max_depth': 5, 'classifier__min_...  \n",
            "2  {'classifier__max_depth': 10, 'classifier__n_e...  \n",
            "3  {'classifier__learning_rate': 0.1, 'classifier...  \n"
          ]
        }
      ],
      "source": [
        "results_df = pd.DataFrame(results, columns=[\"Model\", \"Accuracy\", \"Precision\", \"Recall\", \"F1-score\", \"Best Params\"])\n",
        "print(\"\\n📊 Final Comparison:\\n\", results_df)"
      ]
    },
    {
      "cell_type": "markdown",
      "metadata": {},
      "source": [
        "# random forest pipeline"
      ]
    },
    {
      "cell_type": "code",
      "execution_count": 65,
      "metadata": {},
      "outputs": [
        {
          "name": "stdout",
          "output_type": "stream",
          "text": [
            "✅ Random Forest Results\n",
            "Confusion Matrix:\n",
            " [[1270881       0]\n",
            " [      4    1639]]\n",
            "Classification Report:\n",
            "               precision    recall  f1-score   support\n",
            "\n",
            "           0     1.0000    1.0000    1.0000   1270881\n",
            "           1     1.0000    0.9976    0.9988      1643\n",
            "\n",
            "    accuracy                         1.0000   1272524\n",
            "   macro avg     1.0000    0.9988    0.9994   1272524\n",
            "weighted avg     1.0000    1.0000    1.0000   1272524\n",
            "\n"
          ]
        },
        {
          "data": {
            "text/plain": [
              "['rf_pipeline.pkl']"
            ]
          },
          "execution_count": 65,
          "metadata": {},
          "output_type": "execute_result"
        }
      ],
      "source": [
        "\n",
        "categorical_cols = ['type']\n",
        "numerical_cols = ['amount','oldbalanceOrg','newbalanceOrig',\n",
        "                  'oldbalanceDest','newbalanceDest',\n",
        "                  'sender_balance_diff','receiver_balance_diff']\n",
        "boolean_cols = ['is_sender_balance_mismatch','is_receiver_balance_mismatch']\n",
        "\n",
        "preprocessor = ColumnTransformer(\n",
        "    transformers=[\n",
        "        ('cat', OneHotEncoder(handle_unknown='ignore'), categorical_cols),\n",
        "        ('num', StandardScaler(), numerical_cols),\n",
        "        ('bool', 'passthrough', boolean_cols)\n",
        "    ]\n",
        ")\n",
        "\n",
        "# =============================\n",
        "# Random Forest Pipeline\n",
        "# =============================\n",
        "rf = RandomForestClassifier(\n",
        "    class_weight=\"balanced\",\n",
        "    n_estimators=100,\n",
        "    max_depth=10,\n",
        "    n_jobs=-1,\n",
        "    random_state=42\n",
        ")\n",
        "\n",
        "rf_pipeline = Pipeline(steps=[\n",
        "    ('preprocessor', preprocessor),\n",
        "    ('classifier', rf)\n",
        "])\n",
        "\n",
        "# =============================\n",
        "# Train/Test Split\n",
        "# =============================\n",
        "#X_train, X_test, y_train, y_test = train_test_split(X, y, test_size=0.2, stratify=y, random_state=42)\n",
        "\n",
        "# =============================\n",
        "# Train & Evaluate\n",
        "# =============================\n",
        "rf_pipeline.fit(X_train, y_train)\n",
        "y_pred = rf_pipeline.predict(X_test)\n",
        "\n",
        "print(\"✅ Random Forest Results\")\n",
        "print(\"Confusion Matrix:\\n\", confusion_matrix(y_test, y_pred))\n",
        "print(\"Classification Report:\\n\", classification_report(y_test, y_pred, digits=4))\n",
        "\n",
        "# Save model\n",
        "import joblib\n",
        "joblib.dump(rf_pipeline, \"rf_pipeline.pkl\")"
      ]
    },
    {
      "cell_type": "markdown",
      "metadata": {},
      "source": [
        "# Xgboost"
      ]
    },
    {
      "cell_type": "code",
      "execution_count": 68,
      "metadata": {},
      "outputs": [
        {
          "name": "stdout",
          "output_type": "stream",
          "text": [
            "\n",
            "✅ XGBoost Results\n",
            "Confusion Matrix:\n",
            " [[1270788      93]\n",
            " [      4    1639]]\n",
            "Classification Report:\n",
            "               precision    recall  f1-score   support\n",
            "\n",
            "           0     1.0000    0.9999    1.0000   1270881\n",
            "           1     0.9463    0.9976    0.9713      1643\n",
            "\n",
            "    accuracy                         0.9999   1272524\n",
            "   macro avg     0.9732    0.9987    0.9856   1272524\n",
            "weighted avg     0.9999    0.9999    0.9999   1272524\n",
            "\n"
          ]
        },
        {
          "data": {
            "text/plain": [
              "['xgb_pipeline.pkl']"
            ]
          },
          "execution_count": 68,
          "metadata": {},
          "output_type": "execute_result"
        }
      ],
      "source": [
        "#from xgboost import XGBClassifier\n",
        "\n",
        "# =============================\n",
        "# Compute scale_pos_weight for imbalance\n",
        "# =============================\n",
        "#pos_weight = len(y[y==0]) / len(y[y==1])\n",
        "#print(f\"scale_pos_weight: {pos_weight:.2f}\")\n",
        "\n",
        "# =============================\n",
        "# XGBoost Pipeline\n",
        "# =============================\n",
        "xgb = XGBClassifier(\n",
        "    n_estimators=200,\n",
        "    learning_rate=0.1,\n",
        "    max_depth=5,\n",
        "    scale_pos_weight=pos_weight,\n",
        "    use_label_encoder=False,\n",
        "    eval_metric=\"logloss\",\n",
        "    random_state=42,\n",
        "    n_jobs=-1\n",
        ")\n",
        "\n",
        "xgb_pipeline = Pipeline(steps=[\n",
        "    ('preprocessor', preprocessor),\n",
        "    ('classifier', xgb)\n",
        "])\n",
        "\n",
        "# =============================\n",
        "# Train & Evaluate\n",
        "# =============================\n",
        "xgb_pipeline.fit(X_train, y_train)\n",
        "y_pred = xgb_pipeline.predict(X_test)\n",
        "\n",
        "print(\"\\n✅ XGBoost Results\")\n",
        "print(\"Confusion Matrix:\\n\", confusion_matrix(y_test, y_pred))\n",
        "print(\"Classification Report:\\n\", classification_report(y_test, y_pred, digits=4))\n",
        "\n",
        "# Save model\n",
        "joblib.dump(xgb_pipeline, \"xgb_pipeline.pkl\")\n"
      ]
    },
    {
      "cell_type": "code",
      "execution_count": null,
      "metadata": {},
      "outputs": [],
      "source": []
    }
  ],
  "metadata": {
    "colab": {
      "provenance": []
    },
    "kernelspec": {
      "display_name": "Python 3",
      "name": "python3"
    },
    "language_info": {
      "codemirror_mode": {
        "name": "ipython",
        "version": 3
      },
      "file_extension": ".py",
      "mimetype": "text/x-python",
      "name": "python",
      "nbconvert_exporter": "python",
      "pygments_lexer": "ipython3",
      "version": "3.13.7"
    }
  },
  "nbformat": 4,
  "nbformat_minor": 0
}
