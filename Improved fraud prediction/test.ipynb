{
 "cells": [
  {
   "cell_type": "code",
   "execution_count": 2,
   "id": "c65c11ae",
   "metadata": {},
   "outputs": [
    {
     "name": "stdout",
     "output_type": "stream",
     "text": [
      "RF Prediction: [0] Prob: [0.0403499]\n",
      "XGB Prediction: [0] Prob: [0.00032688]\n"
     ]
    }
   ],
   "source": [
    "import joblib\n",
    "import pandas as pd\n",
    "\n",
    "# Example transaction\n",
    "sample = pd.DataFrame([{\n",
    "    \"type\": \"TRANSFER\",\n",
    "    \"amount\": 151.0,\n",
    "    \"oldbalanceOrg\": 151.0,\n",
    "    \"newbalanceOrig\": 10.0,\n",
    "    \"oldbalanceDest\": 5.0,\n",
    "    \"newbalanceDest\": 5.0\n",
    "}])\n",
    "\n",
    "# Feature engineering\n",
    "sample['sender_balance_diff'] = sample['oldbalanceOrg'] - sample['newbalanceOrig'] - sample['amount']\n",
    "sample['receiver_balance_diff'] = sample['newbalanceDest'] - sample['oldbalanceDest'] - sample['amount']\n",
    "sample['is_sender_balance_mismatch'] = (sample['oldbalanceOrg'] - sample['amount'] != sample['newbalanceOrig']).astype(int)\n",
    "sample['is_receiver_balance_mismatch'] = (sample['oldbalanceDest'] + sample['amount'] != sample['newbalanceDest']).astype(int)\n",
    "\n",
    "# Load trained pipeline\n",
    "rf_model = joblib.load(\"rf_pipeline.pkl\")\n",
    "xgb_model = joblib.load(\"xgb_pipeline.pkl\")\n",
    "\n",
    "print(\"RF Prediction:\", rf_model.predict(sample), \"Prob:\", rf_model.predict_proba(sample)[:,1])\n",
    "print(\"XGB Prediction:\", xgb_model.predict(sample), \"Prob:\", xgb_model.predict_proba(sample)[:,1])\n"
   ]
  },
  {
   "cell_type": "code",
   "execution_count": null,
   "id": "e7882da4",
   "metadata": {},
   "outputs": [],
   "source": []
  }
 ],
 "metadata": {
  "kernelspec": {
   "display_name": "Python 3",
   "language": "python",
   "name": "python3"
  },
  "language_info": {
   "codemirror_mode": {
    "name": "ipython",
    "version": 3
   },
   "file_extension": ".py",
   "mimetype": "text/x-python",
   "name": "python",
   "nbconvert_exporter": "python",
   "pygments_lexer": "ipython3",
   "version": "3.13.7"
  }
 },
 "nbformat": 4,
 "nbformat_minor": 5
}
